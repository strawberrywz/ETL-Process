{
 "cells": [
  {
   "cell_type": "code",
   "execution_count": 98,
   "id": "fae17a0e",
   "metadata": {},
   "outputs": [],
   "source": [
    "import glob\n",
    "import pandas as pd\n",
    "import xml.etree.ElementTree as ET\n",
    "from datetime import datetime"
   ]
  },
  {
   "cell_type": "code",
   "execution_count": 99,
   "id": "d12d612b",
   "metadata": {},
   "outputs": [],
   "source": [
    "tmp = \"temp.tmp\"     \n",
    "logfile = \"log.txt\"\n",
    "targetfile = \"transformed_data.csv\""
   ]
  },
  {
   "cell_type": "code",
   "execution_count": 100,
   "id": "74269e50",
   "metadata": {},
   "outputs": [],
   "source": [
    "def extract_from_csv(file_to_process):\n",
    "    dataframe = pd.read_csv(file_to_process)\n",
    "    return dataframe"
   ]
  },
  {
   "cell_type": "code",
   "execution_count": 101,
   "id": "41edaf9a",
   "metadata": {},
   "outputs": [],
   "source": [
    "def extract_from_json(file_to_process):\n",
    "    dataframe = pd.read_json(file_to_process, lines=True)\n",
    "    return dataframe"
   ]
  },
  {
   "cell_type": "code",
   "execution_count": 102,
   "id": "22a9c752",
   "metadata": {},
   "outputs": [],
   "source": [
    "def extract_from_xml(file_to_process):\n",
    "    dataframe = pd.DataFrame(columns=[\"name\", \"height\", \"weight\"])\n",
    "    tree = ET.parse(file_to_process)\n",
    "    root = tree.getroot()\n",
    "    for person in root:\n",
    "        name = person.find(\"name\").text\n",
    "        height = float(person.find(\"height\").text)\n",
    "        weight = float(person.find(\"weight\").text)\n",
    "        dataframe = dataframe.append({\"name\":name, \"height\":height, \"weight\":weight}, ignore_index=True)\n",
    "    return dataframe"
   ]
  },
  {
   "cell_type": "code",
   "execution_count": 103,
   "id": "37c28e4c",
   "metadata": {},
   "outputs": [],
   "source": [
    "def extract():\n",
    "    extracted_data = pd.DataFrame(columns=[\"name\", \"height\", \"weight\"])\n",
    "    \n",
    "    for csvfile in glob.glob(\"*csv\"):\n",
    "        extracted_data = extracted_data.append(extract_from_csv(csvfile), ignore_index=True)\n",
    "    \n",
    "    for jsonfile in glob.glob(\"*json\"):\n",
    "        extracted_data = extracted_data.append(extract_from_json(jsonfile), ignore_index=True)\n",
    "        \n",
    "    for xmlfile in glob.glob(\"*xml\"):\n",
    "        extracted_data = extracted_data.append(extract_from_xml(xmlfile), ignore_index=True)\n",
    "        \n",
    "    return extracted_data"
   ]
  },
  {
   "cell_type": "code",
   "execution_count": 104,
   "id": "427a2501",
   "metadata": {},
   "outputs": [],
   "source": [
    "def transform(data):\n",
    "    data['height'] = round(data.height * 0.0254,2)\n",
    "    data['weight'] = round(data.weight * 0.45359237,2)\n",
    "    return data"
   ]
  },
  {
   "cell_type": "code",
   "execution_count": 105,
   "id": "46d44fcd",
   "metadata": {},
   "outputs": [],
   "source": [
    "def load(targetfile, data_to_load):\n",
    "    data_to_load.to_csv(targetfile)"
   ]
  },
  {
   "cell_type": "code",
   "execution_count": 106,
   "id": "2e58c469",
   "metadata": {},
   "outputs": [],
   "source": [
    "def log(message):\n",
    "    timestamp_format = '%Y-%h-%d-%H:%M:%S'\n",
    "    now = datetime.now()\n",
    "    timestamp = now.strftime(timestamp_format)\n",
    "    with open(logfile, \"a\") as f:\n",
    "        f.write(timestamp + ', ' + message + '\\n')"
   ]
  },
  {
   "cell_type": "code",
   "execution_count": 107,
   "id": "364db959",
   "metadata": {},
   "outputs": [
    {
     "name": "stderr",
     "output_type": "stream",
     "text": [
      "/var/folders/23/qlhf7yj54mxb4l904swv9g1c0000gn/T/ipykernel_20140/967205263.py:5: FutureWarning: The frame.append method is deprecated and will be removed from pandas in a future version. Use pandas.concat instead.\n",
      "  extracted_data = extracted_data.append(extract_from_csv(csvfile), ignore_index=True)\n",
      "/var/folders/23/qlhf7yj54mxb4l904swv9g1c0000gn/T/ipykernel_20140/967205263.py:5: FutureWarning: The frame.append method is deprecated and will be removed from pandas in a future version. Use pandas.concat instead.\n",
      "  extracted_data = extracted_data.append(extract_from_csv(csvfile), ignore_index=True)\n",
      "/var/folders/23/qlhf7yj54mxb4l904swv9g1c0000gn/T/ipykernel_20140/967205263.py:5: FutureWarning: The frame.append method is deprecated and will be removed from pandas in a future version. Use pandas.concat instead.\n",
      "  extracted_data = extracted_data.append(extract_from_csv(csvfile), ignore_index=True)\n",
      "/var/folders/23/qlhf7yj54mxb4l904swv9g1c0000gn/T/ipykernel_20140/967205263.py:8: FutureWarning: The frame.append method is deprecated and will be removed from pandas in a future version. Use pandas.concat instead.\n",
      "  extracted_data = extracted_data.append(extract_from_json(jsonfile), ignore_index=True)\n",
      "/var/folders/23/qlhf7yj54mxb4l904swv9g1c0000gn/T/ipykernel_20140/967205263.py:8: FutureWarning: The frame.append method is deprecated and will be removed from pandas in a future version. Use pandas.concat instead.\n",
      "  extracted_data = extracted_data.append(extract_from_json(jsonfile), ignore_index=True)\n",
      "/var/folders/23/qlhf7yj54mxb4l904swv9g1c0000gn/T/ipykernel_20140/967205263.py:8: FutureWarning: The frame.append method is deprecated and will be removed from pandas in a future version. Use pandas.concat instead.\n",
      "  extracted_data = extracted_data.append(extract_from_json(jsonfile), ignore_index=True)\n",
      "/var/folders/23/qlhf7yj54mxb4l904swv9g1c0000gn/T/ipykernel_20140/758838072.py:9: FutureWarning: The frame.append method is deprecated and will be removed from pandas in a future version. Use pandas.concat instead.\n",
      "  dataframe = dataframe.append({\"name\":name, \"height\":height, \"weight\":weight}, ignore_index=True)\n",
      "/var/folders/23/qlhf7yj54mxb4l904swv9g1c0000gn/T/ipykernel_20140/758838072.py:9: FutureWarning: The frame.append method is deprecated and will be removed from pandas in a future version. Use pandas.concat instead.\n",
      "  dataframe = dataframe.append({\"name\":name, \"height\":height, \"weight\":weight}, ignore_index=True)\n",
      "/var/folders/23/qlhf7yj54mxb4l904swv9g1c0000gn/T/ipykernel_20140/758838072.py:9: FutureWarning: The frame.append method is deprecated and will be removed from pandas in a future version. Use pandas.concat instead.\n",
      "  dataframe = dataframe.append({\"name\":name, \"height\":height, \"weight\":weight}, ignore_index=True)\n",
      "/var/folders/23/qlhf7yj54mxb4l904swv9g1c0000gn/T/ipykernel_20140/758838072.py:9: FutureWarning: The frame.append method is deprecated and will be removed from pandas in a future version. Use pandas.concat instead.\n",
      "  dataframe = dataframe.append({\"name\":name, \"height\":height, \"weight\":weight}, ignore_index=True)\n",
      "/var/folders/23/qlhf7yj54mxb4l904swv9g1c0000gn/T/ipykernel_20140/967205263.py:11: FutureWarning: The frame.append method is deprecated and will be removed from pandas in a future version. Use pandas.concat instead.\n",
      "  extracted_data = extracted_data.append(extract_from_xml(xmlfile), ignore_index=True)\n",
      "/var/folders/23/qlhf7yj54mxb4l904swv9g1c0000gn/T/ipykernel_20140/758838072.py:9: FutureWarning: The frame.append method is deprecated and will be removed from pandas in a future version. Use pandas.concat instead.\n",
      "  dataframe = dataframe.append({\"name\":name, \"height\":height, \"weight\":weight}, ignore_index=True)\n",
      "/var/folders/23/qlhf7yj54mxb4l904swv9g1c0000gn/T/ipykernel_20140/758838072.py:9: FutureWarning: The frame.append method is deprecated and will be removed from pandas in a future version. Use pandas.concat instead.\n",
      "  dataframe = dataframe.append({\"name\":name, \"height\":height, \"weight\":weight}, ignore_index=True)\n",
      "/var/folders/23/qlhf7yj54mxb4l904swv9g1c0000gn/T/ipykernel_20140/758838072.py:9: FutureWarning: The frame.append method is deprecated and will be removed from pandas in a future version. Use pandas.concat instead.\n",
      "  dataframe = dataframe.append({\"name\":name, \"height\":height, \"weight\":weight}, ignore_index=True)\n",
      "/var/folders/23/qlhf7yj54mxb4l904swv9g1c0000gn/T/ipykernel_20140/758838072.py:9: FutureWarning: The frame.append method is deprecated and will be removed from pandas in a future version. Use pandas.concat instead.\n",
      "  dataframe = dataframe.append({\"name\":name, \"height\":height, \"weight\":weight}, ignore_index=True)\n",
      "/var/folders/23/qlhf7yj54mxb4l904swv9g1c0000gn/T/ipykernel_20140/967205263.py:11: FutureWarning: The frame.append method is deprecated and will be removed from pandas in a future version. Use pandas.concat instead.\n",
      "  extracted_data = extracted_data.append(extract_from_xml(xmlfile), ignore_index=True)\n",
      "/var/folders/23/qlhf7yj54mxb4l904swv9g1c0000gn/T/ipykernel_20140/758838072.py:9: FutureWarning: The frame.append method is deprecated and will be removed from pandas in a future version. Use pandas.concat instead.\n",
      "  dataframe = dataframe.append({\"name\":name, \"height\":height, \"weight\":weight}, ignore_index=True)\n",
      "/var/folders/23/qlhf7yj54mxb4l904swv9g1c0000gn/T/ipykernel_20140/758838072.py:9: FutureWarning: The frame.append method is deprecated and will be removed from pandas in a future version. Use pandas.concat instead.\n",
      "  dataframe = dataframe.append({\"name\":name, \"height\":height, \"weight\":weight}, ignore_index=True)\n",
      "/var/folders/23/qlhf7yj54mxb4l904swv9g1c0000gn/T/ipykernel_20140/758838072.py:9: FutureWarning: The frame.append method is deprecated and will be removed from pandas in a future version. Use pandas.concat instead.\n",
      "  dataframe = dataframe.append({\"name\":name, \"height\":height, \"weight\":weight}, ignore_index=True)\n",
      "/var/folders/23/qlhf7yj54mxb4l904swv9g1c0000gn/T/ipykernel_20140/758838072.py:9: FutureWarning: The frame.append method is deprecated and will be removed from pandas in a future version. Use pandas.concat instead.\n",
      "  dataframe = dataframe.append({\"name\":name, \"height\":height, \"weight\":weight}, ignore_index=True)\n",
      "/var/folders/23/qlhf7yj54mxb4l904swv9g1c0000gn/T/ipykernel_20140/967205263.py:11: FutureWarning: The frame.append method is deprecated and will be removed from pandas in a future version. Use pandas.concat instead.\n",
      "  extracted_data = extracted_data.append(extract_from_xml(xmlfile), ignore_index=True)\n"
     ]
    }
   ],
   "source": [
    "# The ETL process\n",
    "log(\"ETL Process Started\")\n",
    "log(\"Extraction Phase Started\")\n",
    "extracted_data = extract()\n",
    "log(\"Extraction Phase Ended\")\n",
    "log(\"Transformation Started\")\n",
    "transformed_data = transform(extracted_data)\n",
    "log(\"Transformation Ended\")\n",
    "log(\"Loading Started\")\n",
    "load(targetfile, transformed_data)\n",
    "log(\"Loading Ended\")"
   ]
  },
  {
   "cell_type": "code",
   "execution_count": null,
   "id": "3b963748",
   "metadata": {},
   "outputs": [],
   "source": []
  }
 ],
 "metadata": {
  "kernelspec": {
   "display_name": "Python 3 (ipykernel)",
   "language": "python",
   "name": "python3"
  },
  "language_info": {
   "codemirror_mode": {
    "name": "ipython",
    "version": 3
   },
   "file_extension": ".py",
   "mimetype": "text/x-python",
   "name": "python",
   "nbconvert_exporter": "python",
   "pygments_lexer": "ipython3",
   "version": "3.11.4"
  }
 },
 "nbformat": 4,
 "nbformat_minor": 5
}
