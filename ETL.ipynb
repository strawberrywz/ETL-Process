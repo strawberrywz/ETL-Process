{
 "cells": [
  {
   "cell_type": "code",
   "execution_count": 333,
   "id": "54aed7b6",
   "metadata": {},
   "outputs": [],
   "source": [
    "import glob \n",
    "import pandas as pd\n",
    "import requests\n",
    "from datetime import datetime"
   ]
  },
  {
   "cell_type": "code",
   "execution_count": 334,
   "id": "d9cd5397",
   "metadata": {},
   "outputs": [],
   "source": [
    "logfile = \"log.txt\"\n",
    "targetfile = \"transformed_data.csv\"\n",
    "columns=['Name','Market Cap (US$ Billion)']"
   ]
  },
  {
   "cell_type": "markdown",
   "id": "6d421dc1",
   "metadata": {},
   "source": [
    "## Extract"
   ]
  },
  {
   "cell_type": "code",
   "execution_count": 335,
   "id": "47d56c88",
   "metadata": {},
   "outputs": [],
   "source": [
    "def extract_from_json(file_to_process):\n",
    "    dataframe = pd.read_json(file_to_process)\n",
    "    return dataframe"
   ]
  },
  {
   "cell_type": "code",
   "execution_count": 336,
   "id": "504d84cf",
   "metadata": {},
   "outputs": [],
   "source": [
    "def extract():\n",
    "    extracted_data = pd.DataFrame(columns=columns)\n",
    "    \n",
    "    for jsonfile in glob.glob(\"*json\"):\n",
    "        extracted_data = extracted_data.append(extract_from_json(jsonfile), ignore_index=True)\n",
    "    \n",
    "    return extracted_data"
   ]
  },
  {
   "cell_type": "code",
   "execution_count": 337,
   "id": "4efafdb7",
   "metadata": {},
   "outputs": [],
   "source": [
    "def extract_rates():\n",
    "    for csvfile in glob.glob(\"*csv\"):\n",
    "        df = pd.read_csv(csvfile)\n",
    "    return df"
   ]
  },
  {
   "cell_type": "code",
   "execution_count": 338,
   "id": "b3e662b4",
   "metadata": {},
   "outputs": [],
   "source": [
    "def get_rate(data, currency):\n",
    "    rate = data[data[\"Currency\"] == currency].values[0][1]\n",
    "    return rate"
   ]
  },
  {
   "cell_type": "markdown",
   "id": "891bb442",
   "metadata": {},
   "source": [
    "## Transform"
   ]
  },
  {
   "cell_type": "code",
   "execution_count": 339,
   "id": "60baf1d0",
   "metadata": {},
   "outputs": [],
   "source": [
    "def transform(extracted_data, rate, currency):\n",
    "    extracted_data.columns = [\"Name\", f\"Market Cap({currency}$)Billion\"]\n",
    "    extracted_data.iloc[:, -1] = extracted_data.iloc[:, -1].apply(lambda x: round(x * rate, 3))\n",
    "    return extracted_data"
   ]
  },
  {
   "cell_type": "markdown",
   "id": "6adf32df",
   "metadata": {},
   "source": [
    "## Load"
   ]
  },
  {
   "cell_type": "code",
   "execution_count": 340,
   "id": "05c0085e",
   "metadata": {},
   "outputs": [],
   "source": [
    "def load(targetfile, data_to_load):\n",
    "    data_to_load.to_csv(targetfile, index=False)"
   ]
  },
  {
   "cell_type": "markdown",
   "id": "a812c939",
   "metadata": {},
   "source": [
    "## Log"
   ]
  },
  {
   "cell_type": "code",
   "execution_count": 341,
   "id": "1e971b31",
   "metadata": {},
   "outputs": [],
   "source": [
    "def log(message):\n",
    "    timestamp_format = '%Y-%h-%d-%H:%M:%S'\n",
    "    now = datetime.now()\n",
    "    timestamp = now.strftime(timestamp_format)\n",
    "    with open(logfile, \"a\") as f:\n",
    "        f.write(timestamp + ', ' + message + '\\n')"
   ]
  },
  {
   "cell_type": "markdown",
   "id": "836521ad",
   "metadata": {},
   "source": [
    "## Running the ETL Process"
   ]
  },
  {
   "cell_type": "markdown",
   "id": "1c573055",
   "metadata": {},
   "source": [
    "### Extracting Phase"
   ]
  },
  {
   "cell_type": "code",
   "execution_count": 342,
   "id": "92d3b5b9",
   "metadata": {},
   "outputs": [
    {
     "name": "stderr",
     "output_type": "stream",
     "text": [
      "/var/folders/23/qlhf7yj54mxb4l904swv9g1c0000gn/T/ipykernel_33109/3097975952.py:5: FutureWarning: The frame.append method is deprecated and will be removed from pandas in a future version. Use pandas.concat instead.\n",
      "  extracted_data = extracted_data.append(extract_from_json(jsonfile), ignore_index=True)\n"
     ]
    }
   ],
   "source": [
    "log(\"ETL Job Started\")\n",
    "log(\"Extract Phase Started\")\n",
    "extracted_data = extract()\n",
    "rates_data = extract_rates()\n",
    "rate = get_rate(rates_data, \"GBP\")\n",
    "log(\"Extraction Phase Ended\")"
   ]
  },
  {
   "cell_type": "code",
   "execution_count": 343,
   "id": "48b72f8a",
   "metadata": {},
   "outputs": [
    {
     "data": {
      "text/html": [
       "<div>\n",
       "<style scoped>\n",
       "    .dataframe tbody tr th:only-of-type {\n",
       "        vertical-align: middle;\n",
       "    }\n",
       "\n",
       "    .dataframe tbody tr th {\n",
       "        vertical-align: top;\n",
       "    }\n",
       "\n",
       "    .dataframe thead th {\n",
       "        text-align: right;\n",
       "    }\n",
       "</style>\n",
       "<table border=\"1\" class=\"dataframe\">\n",
       "  <thead>\n",
       "    <tr style=\"text-align: right;\">\n",
       "      <th></th>\n",
       "      <th>Name</th>\n",
       "      <th>Market Cap (US$ Billion)</th>\n",
       "    </tr>\n",
       "  </thead>\n",
       "  <tbody>\n",
       "    <tr>\n",
       "      <th>0</th>\n",
       "      <td>JPMorgan Chase</td>\n",
       "      <td>390.934</td>\n",
       "    </tr>\n",
       "    <tr>\n",
       "      <th>1</th>\n",
       "      <td>Industrial and Commercial Bank of China</td>\n",
       "      <td>345.214</td>\n",
       "    </tr>\n",
       "    <tr>\n",
       "      <th>2</th>\n",
       "      <td>Bank of America</td>\n",
       "      <td>325.331</td>\n",
       "    </tr>\n",
       "    <tr>\n",
       "      <th>3</th>\n",
       "      <td>Wells Fargo</td>\n",
       "      <td>308.013</td>\n",
       "    </tr>\n",
       "    <tr>\n",
       "      <th>4</th>\n",
       "      <td>China Construction Bank</td>\n",
       "      <td>257.399</td>\n",
       "    </tr>\n",
       "  </tbody>\n",
       "</table>\n",
       "</div>"
      ],
      "text/plain": [
       "                                      Name  Market Cap (US$ Billion)\n",
       "0                           JPMorgan Chase                   390.934\n",
       "1  Industrial and Commercial Bank of China                   345.214\n",
       "2                          Bank of America                   325.331\n",
       "3                              Wells Fargo                   308.013\n",
       "4                  China Construction Bank                   257.399"
      ]
     },
     "execution_count": 343,
     "metadata": {},
     "output_type": "execute_result"
    }
   ],
   "source": [
    "extracted_data.head()"
   ]
  },
  {
   "cell_type": "markdown",
   "id": "1772b622",
   "metadata": {},
   "source": [
    "### Transform Phase"
   ]
  },
  {
   "cell_type": "code",
   "execution_count": 344,
   "id": "48833d49",
   "metadata": {},
   "outputs": [],
   "source": [
    "log(\"Transform Phase Started\")\n",
    "transformed_data = transform(extracted_data, rate, \"GBP\")\n",
    "log(\"Transform Phase Ended\")"
   ]
  },
  {
   "cell_type": "code",
   "execution_count": 345,
   "id": "5b1d0d01",
   "metadata": {},
   "outputs": [
    {
     "data": {
      "text/html": [
       "<div>\n",
       "<style scoped>\n",
       "    .dataframe tbody tr th:only-of-type {\n",
       "        vertical-align: middle;\n",
       "    }\n",
       "\n",
       "    .dataframe tbody tr th {\n",
       "        vertical-align: top;\n",
       "    }\n",
       "\n",
       "    .dataframe thead th {\n",
       "        text-align: right;\n",
       "    }\n",
       "</style>\n",
       "<table border=\"1\" class=\"dataframe\">\n",
       "  <thead>\n",
       "    <tr style=\"text-align: right;\">\n",
       "      <th></th>\n",
       "      <th>Name</th>\n",
       "      <th>Market Cap(GBP$)Billion</th>\n",
       "    </tr>\n",
       "  </thead>\n",
       "  <tbody>\n",
       "    <tr>\n",
       "      <th>0</th>\n",
       "      <td>JPMorgan Chase</td>\n",
       "      <td>340.000</td>\n",
       "    </tr>\n",
       "    <tr>\n",
       "      <th>1</th>\n",
       "      <td>Industrial and Commercial Bank of China</td>\n",
       "      <td>300.236</td>\n",
       "    </tr>\n",
       "    <tr>\n",
       "      <th>2</th>\n",
       "      <td>Bank of America</td>\n",
       "      <td>282.944</td>\n",
       "    </tr>\n",
       "    <tr>\n",
       "      <th>3</th>\n",
       "      <td>Wells Fargo</td>\n",
       "      <td>267.882</td>\n",
       "    </tr>\n",
       "    <tr>\n",
       "      <th>4</th>\n",
       "      <td>China Construction Bank</td>\n",
       "      <td>223.863</td>\n",
       "    </tr>\n",
       "  </tbody>\n",
       "</table>\n",
       "</div>"
      ],
      "text/plain": [
       "                                      Name  Market Cap(GBP$)Billion\n",
       "0                           JPMorgan Chase                  340.000\n",
       "1  Industrial and Commercial Bank of China                  300.236\n",
       "2                          Bank of America                  282.944\n",
       "3                              Wells Fargo                  267.882\n",
       "4                  China Construction Bank                  223.863"
      ]
     },
     "execution_count": 345,
     "metadata": {},
     "output_type": "execute_result"
    }
   ],
   "source": [
    "transformed_data.head()"
   ]
  },
  {
   "cell_type": "markdown",
   "id": "9cf38111",
   "metadata": {},
   "source": [
    "### Load Phase "
   ]
  },
  {
   "cell_type": "code",
   "execution_count": 346,
   "id": "138ea913",
   "metadata": {},
   "outputs": [],
   "source": [
    "log(\"Load Phase Started\")\n",
    "load(targetfile, transformed_data)\n",
    "log(\"Load Phase Ended\")"
   ]
  },
  {
   "cell_type": "code",
   "execution_count": 347,
   "id": "75707907",
   "metadata": {},
   "outputs": [
    {
     "name": "stdout",
     "output_type": "stream",
     "text": [
      "0.869711\n"
     ]
    }
   ],
   "source": [
    "print(rate)"
   ]
  },
  {
   "cell_type": "code",
   "execution_count": null,
   "id": "745213e3",
   "metadata": {},
   "outputs": [],
   "source": []
  },
  {
   "cell_type": "code",
   "execution_count": null,
   "id": "cccf3e71",
   "metadata": {},
   "outputs": [],
   "source": []
  },
  {
   "cell_type": "code",
   "execution_count": null,
   "id": "867c4239",
   "metadata": {},
   "outputs": [],
   "source": []
  },
  {
   "cell_type": "code",
   "execution_count": null,
   "id": "ca78975b",
   "metadata": {},
   "outputs": [],
   "source": []
  }
 ],
 "metadata": {
  "kernelspec": {
   "display_name": "Python 3 (ipykernel)",
   "language": "python",
   "name": "python3"
  },
  "language_info": {
   "codemirror_mode": {
    "name": "ipython",
    "version": 3
   },
   "file_extension": ".py",
   "mimetype": "text/x-python",
   "name": "python",
   "nbconvert_exporter": "python",
   "pygments_lexer": "ipython3",
   "version": "3.11.4"
  }
 },
 "nbformat": 4,
 "nbformat_minor": 5
}
